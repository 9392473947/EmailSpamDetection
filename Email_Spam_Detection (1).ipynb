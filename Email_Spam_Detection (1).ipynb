{
  "cells": [
    {
      "cell_type": "markdown",
      "source": [
        "# **Email Spam Detection**"
      ],
      "metadata": {
        "id": "omzrIj5YpN3-"
      }
    },
    {
      "cell_type": "code",
      "execution_count": null,
      "metadata": {
        "id": "y5D-ISHLM3uK"
      },
      "outputs": [],
      "source": [
        "import numpy as np\n",
        "import pandas as pd\n",
        "import matplotlib.pyplot as plt\n",
        "import seaborn as sns"
      ]
    },
    {
      "cell_type": "code",
      "execution_count": null,
      "metadata": {
        "id": "EH2_sGMCUfho"
      },
      "outputs": [],
      "source": [
        "data = pd.read_csv(\"https://github.com/9392473947/Datasets/raw/main/lingSpam.csv\")"
      ]
    },
    {
      "cell_type": "code",
      "execution_count": null,
      "metadata": {
        "id": "nOLV4ZajVJjw",
        "colab": {
          "base_uri": "https://localhost:8080/",
          "height": 423
        },
        "outputId": "3d00a642-9b9b-4608-f36d-c73573d66f35"
      },
      "outputs": [
        {
          "output_type": "execute_result",
          "data": {
            "text/plain": [
              "      Unnamed: 0                                               Body  Label\n",
              "0              0  Subject: great part-time or summer job !\\n \\n ...      1\n",
              "1              1  Subject: auto insurance rates too high ?\\n \\n ...      1\n",
              "2              2  Subject: do want the best and economical hunti...      1\n",
              "3              3  Subject: email 57 million people for $ 99\\n \\n...      1\n",
              "4              4  Subject: do n't miss these !\\n \\n attention ! ...      1\n",
              "...          ...                                                ...    ...\n",
              "2600        2600  Subject: computationally - intensive methods i...      0\n",
              "2601        2601  Subject: books : a survey of american linguist...      0\n",
              "2602        2602  Subject: wecol ' 98 - - western conference on ...      0\n",
              "2603        2603  Subject: euralex ' 98 - revised programme\\n \\n...      0\n",
              "2604        2604  ,Body,Label\\n 0,\"Subject: great part-time or s...      0\n",
              "\n",
              "[2605 rows x 3 columns]"
            ],
            "text/html": [
              "\n",
              "  <div id=\"df-915bbfe4-3a40-4947-a332-fa5dc479a4ea\" class=\"colab-df-container\">\n",
              "    <div>\n",
              "<style scoped>\n",
              "    .dataframe tbody tr th:only-of-type {\n",
              "        vertical-align: middle;\n",
              "    }\n",
              "\n",
              "    .dataframe tbody tr th {\n",
              "        vertical-align: top;\n",
              "    }\n",
              "\n",
              "    .dataframe thead th {\n",
              "        text-align: right;\n",
              "    }\n",
              "</style>\n",
              "<table border=\"1\" class=\"dataframe\">\n",
              "  <thead>\n",
              "    <tr style=\"text-align: right;\">\n",
              "      <th></th>\n",
              "      <th>Unnamed: 0</th>\n",
              "      <th>Body</th>\n",
              "      <th>Label</th>\n",
              "    </tr>\n",
              "  </thead>\n",
              "  <tbody>\n",
              "    <tr>\n",
              "      <th>0</th>\n",
              "      <td>0</td>\n",
              "      <td>Subject: great part-time or summer job !\\n \\n ...</td>\n",
              "      <td>1</td>\n",
              "    </tr>\n",
              "    <tr>\n",
              "      <th>1</th>\n",
              "      <td>1</td>\n",
              "      <td>Subject: auto insurance rates too high ?\\n \\n ...</td>\n",
              "      <td>1</td>\n",
              "    </tr>\n",
              "    <tr>\n",
              "      <th>2</th>\n",
              "      <td>2</td>\n",
              "      <td>Subject: do want the best and economical hunti...</td>\n",
              "      <td>1</td>\n",
              "    </tr>\n",
              "    <tr>\n",
              "      <th>3</th>\n",
              "      <td>3</td>\n",
              "      <td>Subject: email 57 million people for $ 99\\n \\n...</td>\n",
              "      <td>1</td>\n",
              "    </tr>\n",
              "    <tr>\n",
              "      <th>4</th>\n",
              "      <td>4</td>\n",
              "      <td>Subject: do n't miss these !\\n \\n attention ! ...</td>\n",
              "      <td>1</td>\n",
              "    </tr>\n",
              "    <tr>\n",
              "      <th>...</th>\n",
              "      <td>...</td>\n",
              "      <td>...</td>\n",
              "      <td>...</td>\n",
              "    </tr>\n",
              "    <tr>\n",
              "      <th>2600</th>\n",
              "      <td>2600</td>\n",
              "      <td>Subject: computationally - intensive methods i...</td>\n",
              "      <td>0</td>\n",
              "    </tr>\n",
              "    <tr>\n",
              "      <th>2601</th>\n",
              "      <td>2601</td>\n",
              "      <td>Subject: books : a survey of american linguist...</td>\n",
              "      <td>0</td>\n",
              "    </tr>\n",
              "    <tr>\n",
              "      <th>2602</th>\n",
              "      <td>2602</td>\n",
              "      <td>Subject: wecol ' 98 - - western conference on ...</td>\n",
              "      <td>0</td>\n",
              "    </tr>\n",
              "    <tr>\n",
              "      <th>2603</th>\n",
              "      <td>2603</td>\n",
              "      <td>Subject: euralex ' 98 - revised programme\\n \\n...</td>\n",
              "      <td>0</td>\n",
              "    </tr>\n",
              "    <tr>\n",
              "      <th>2604</th>\n",
              "      <td>2604</td>\n",
              "      <td>,Body,Label\\n 0,\"Subject: great part-time or s...</td>\n",
              "      <td>0</td>\n",
              "    </tr>\n",
              "  </tbody>\n",
              "</table>\n",
              "<p>2605 rows × 3 columns</p>\n",
              "</div>\n",
              "    <div class=\"colab-df-buttons\">\n",
              "\n",
              "  <div class=\"colab-df-container\">\n",
              "    <button class=\"colab-df-convert\" onclick=\"convertToInteractive('df-915bbfe4-3a40-4947-a332-fa5dc479a4ea')\"\n",
              "            title=\"Convert this dataframe to an interactive table.\"\n",
              "            style=\"display:none;\">\n",
              "\n",
              "  <svg xmlns=\"http://www.w3.org/2000/svg\" height=\"24px\" viewBox=\"0 -960 960 960\">\n",
              "    <path d=\"M120-120v-720h720v720H120Zm60-500h600v-160H180v160Zm220 220h160v-160H400v160Zm0 220h160v-160H400v160ZM180-400h160v-160H180v160Zm440 0h160v-160H620v160ZM180-180h160v-160H180v160Zm440 0h160v-160H620v160Z\"/>\n",
              "  </svg>\n",
              "    </button>\n",
              "\n",
              "  <style>\n",
              "    .colab-df-container {\n",
              "      display:flex;\n",
              "      gap: 12px;\n",
              "    }\n",
              "\n",
              "    .colab-df-convert {\n",
              "      background-color: #E8F0FE;\n",
              "      border: none;\n",
              "      border-radius: 50%;\n",
              "      cursor: pointer;\n",
              "      display: none;\n",
              "      fill: #1967D2;\n",
              "      height: 32px;\n",
              "      padding: 0 0 0 0;\n",
              "      width: 32px;\n",
              "    }\n",
              "\n",
              "    .colab-df-convert:hover {\n",
              "      background-color: #E2EBFA;\n",
              "      box-shadow: 0px 1px 2px rgba(60, 64, 67, 0.3), 0px 1px 3px 1px rgba(60, 64, 67, 0.15);\n",
              "      fill: #174EA6;\n",
              "    }\n",
              "\n",
              "    .colab-df-buttons div {\n",
              "      margin-bottom: 4px;\n",
              "    }\n",
              "\n",
              "    [theme=dark] .colab-df-convert {\n",
              "      background-color: #3B4455;\n",
              "      fill: #D2E3FC;\n",
              "    }\n",
              "\n",
              "    [theme=dark] .colab-df-convert:hover {\n",
              "      background-color: #434B5C;\n",
              "      box-shadow: 0px 1px 3px 1px rgba(0, 0, 0, 0.15);\n",
              "      filter: drop-shadow(0px 1px 2px rgba(0, 0, 0, 0.3));\n",
              "      fill: #FFFFFF;\n",
              "    }\n",
              "  </style>\n",
              "\n",
              "    <script>\n",
              "      const buttonEl =\n",
              "        document.querySelector('#df-915bbfe4-3a40-4947-a332-fa5dc479a4ea button.colab-df-convert');\n",
              "      buttonEl.style.display =\n",
              "        google.colab.kernel.accessAllowed ? 'block' : 'none';\n",
              "\n",
              "      async function convertToInteractive(key) {\n",
              "        const element = document.querySelector('#df-915bbfe4-3a40-4947-a332-fa5dc479a4ea');\n",
              "        const dataTable =\n",
              "          await google.colab.kernel.invokeFunction('convertToInteractive',\n",
              "                                                    [key], {});\n",
              "        if (!dataTable) return;\n",
              "\n",
              "        const docLinkHtml = 'Like what you see? Visit the ' +\n",
              "          '<a target=\"_blank\" href=https://colab.research.google.com/notebooks/data_table.ipynb>data table notebook</a>'\n",
              "          + ' to learn more about interactive tables.';\n",
              "        element.innerHTML = '';\n",
              "        dataTable['output_type'] = 'display_data';\n",
              "        await google.colab.output.renderOutput(dataTable, element);\n",
              "        const docLink = document.createElement('div');\n",
              "        docLink.innerHTML = docLinkHtml;\n",
              "        element.appendChild(docLink);\n",
              "      }\n",
              "    </script>\n",
              "  </div>\n",
              "\n",
              "\n",
              "<div id=\"df-a93efd3b-b26f-44a9-a020-cf49e09af083\">\n",
              "  <button class=\"colab-df-quickchart\" onclick=\"quickchart('df-a93efd3b-b26f-44a9-a020-cf49e09af083')\"\n",
              "            title=\"Suggest charts\"\n",
              "            style=\"display:none;\">\n",
              "\n",
              "<svg xmlns=\"http://www.w3.org/2000/svg\" height=\"24px\"viewBox=\"0 0 24 24\"\n",
              "     width=\"24px\">\n",
              "    <g>\n",
              "        <path d=\"M19 3H5c-1.1 0-2 .9-2 2v14c0 1.1.9 2 2 2h14c1.1 0 2-.9 2-2V5c0-1.1-.9-2-2-2zM9 17H7v-7h2v7zm4 0h-2V7h2v10zm4 0h-2v-4h2v4z\"/>\n",
              "    </g>\n",
              "</svg>\n",
              "  </button>\n",
              "\n",
              "<style>\n",
              "  .colab-df-quickchart {\n",
              "      --bg-color: #E8F0FE;\n",
              "      --fill-color: #1967D2;\n",
              "      --hover-bg-color: #E2EBFA;\n",
              "      --hover-fill-color: #174EA6;\n",
              "      --disabled-fill-color: #AAA;\n",
              "      --disabled-bg-color: #DDD;\n",
              "  }\n",
              "\n",
              "  [theme=dark] .colab-df-quickchart {\n",
              "      --bg-color: #3B4455;\n",
              "      --fill-color: #D2E3FC;\n",
              "      --hover-bg-color: #434B5C;\n",
              "      --hover-fill-color: #FFFFFF;\n",
              "      --disabled-bg-color: #3B4455;\n",
              "      --disabled-fill-color: #666;\n",
              "  }\n",
              "\n",
              "  .colab-df-quickchart {\n",
              "    background-color: var(--bg-color);\n",
              "    border: none;\n",
              "    border-radius: 50%;\n",
              "    cursor: pointer;\n",
              "    display: none;\n",
              "    fill: var(--fill-color);\n",
              "    height: 32px;\n",
              "    padding: 0;\n",
              "    width: 32px;\n",
              "  }\n",
              "\n",
              "  .colab-df-quickchart:hover {\n",
              "    background-color: var(--hover-bg-color);\n",
              "    box-shadow: 0 1px 2px rgba(60, 64, 67, 0.3), 0 1px 3px 1px rgba(60, 64, 67, 0.15);\n",
              "    fill: var(--button-hover-fill-color);\n",
              "  }\n",
              "\n",
              "  .colab-df-quickchart-complete:disabled,\n",
              "  .colab-df-quickchart-complete:disabled:hover {\n",
              "    background-color: var(--disabled-bg-color);\n",
              "    fill: var(--disabled-fill-color);\n",
              "    box-shadow: none;\n",
              "  }\n",
              "\n",
              "  .colab-df-spinner {\n",
              "    border: 2px solid var(--fill-color);\n",
              "    border-color: transparent;\n",
              "    border-bottom-color: var(--fill-color);\n",
              "    animation:\n",
              "      spin 1s steps(1) infinite;\n",
              "  }\n",
              "\n",
              "  @keyframes spin {\n",
              "    0% {\n",
              "      border-color: transparent;\n",
              "      border-bottom-color: var(--fill-color);\n",
              "      border-left-color: var(--fill-color);\n",
              "    }\n",
              "    20% {\n",
              "      border-color: transparent;\n",
              "      border-left-color: var(--fill-color);\n",
              "      border-top-color: var(--fill-color);\n",
              "    }\n",
              "    30% {\n",
              "      border-color: transparent;\n",
              "      border-left-color: var(--fill-color);\n",
              "      border-top-color: var(--fill-color);\n",
              "      border-right-color: var(--fill-color);\n",
              "    }\n",
              "    40% {\n",
              "      border-color: transparent;\n",
              "      border-right-color: var(--fill-color);\n",
              "      border-top-color: var(--fill-color);\n",
              "    }\n",
              "    60% {\n",
              "      border-color: transparent;\n",
              "      border-right-color: var(--fill-color);\n",
              "    }\n",
              "    80% {\n",
              "      border-color: transparent;\n",
              "      border-right-color: var(--fill-color);\n",
              "      border-bottom-color: var(--fill-color);\n",
              "    }\n",
              "    90% {\n",
              "      border-color: transparent;\n",
              "      border-bottom-color: var(--fill-color);\n",
              "    }\n",
              "  }\n",
              "</style>\n",
              "\n",
              "  <script>\n",
              "    async function quickchart(key) {\n",
              "      const quickchartButtonEl =\n",
              "        document.querySelector('#' + key + ' button');\n",
              "      quickchartButtonEl.disabled = true;  // To prevent multiple clicks.\n",
              "      quickchartButtonEl.classList.add('colab-df-spinner');\n",
              "      try {\n",
              "        const charts = await google.colab.kernel.invokeFunction(\n",
              "            'suggestCharts', [key], {});\n",
              "      } catch (error) {\n",
              "        console.error('Error during call to suggestCharts:', error);\n",
              "      }\n",
              "      quickchartButtonEl.classList.remove('colab-df-spinner');\n",
              "      quickchartButtonEl.classList.add('colab-df-quickchart-complete');\n",
              "    }\n",
              "    (() => {\n",
              "      let quickchartButtonEl =\n",
              "        document.querySelector('#df-a93efd3b-b26f-44a9-a020-cf49e09af083 button');\n",
              "      quickchartButtonEl.style.display =\n",
              "        google.colab.kernel.accessAllowed ? 'block' : 'none';\n",
              "    })();\n",
              "  </script>\n",
              "</div>\n",
              "\n",
              "  <div id=\"id_e6ab3c74-d2b1-455b-b3d2-ffe0700a6397\">\n",
              "    <style>\n",
              "      .colab-df-generate {\n",
              "        background-color: #E8F0FE;\n",
              "        border: none;\n",
              "        border-radius: 50%;\n",
              "        cursor: pointer;\n",
              "        display: none;\n",
              "        fill: #1967D2;\n",
              "        height: 32px;\n",
              "        padding: 0 0 0 0;\n",
              "        width: 32px;\n",
              "      }\n",
              "\n",
              "      .colab-df-generate:hover {\n",
              "        background-color: #E2EBFA;\n",
              "        box-shadow: 0px 1px 2px rgba(60, 64, 67, 0.3), 0px 1px 3px 1px rgba(60, 64, 67, 0.15);\n",
              "        fill: #174EA6;\n",
              "      }\n",
              "\n",
              "      [theme=dark] .colab-df-generate {\n",
              "        background-color: #3B4455;\n",
              "        fill: #D2E3FC;\n",
              "      }\n",
              "\n",
              "      [theme=dark] .colab-df-generate:hover {\n",
              "        background-color: #434B5C;\n",
              "        box-shadow: 0px 1px 3px 1px rgba(0, 0, 0, 0.15);\n",
              "        filter: drop-shadow(0px 1px 2px rgba(0, 0, 0, 0.3));\n",
              "        fill: #FFFFFF;\n",
              "      }\n",
              "    </style>\n",
              "    <button class=\"colab-df-generate\" onclick=\"generateWithVariable('data')\"\n",
              "            title=\"Generate code using this dataframe.\"\n",
              "            style=\"display:none;\">\n",
              "\n",
              "  <svg xmlns=\"http://www.w3.org/2000/svg\" height=\"24px\"viewBox=\"0 0 24 24\"\n",
              "       width=\"24px\">\n",
              "    <path d=\"M7,19H8.4L18.45,9,17,7.55,7,17.6ZM5,21V16.75L18.45,3.32a2,2,0,0,1,2.83,0l1.4,1.43a1.91,1.91,0,0,1,.58,1.4,1.91,1.91,0,0,1-.58,1.4L9.25,21ZM18.45,9,17,7.55Zm-12,3A5.31,5.31,0,0,0,4.9,8.1,5.31,5.31,0,0,0,1,6.5,5.31,5.31,0,0,0,4.9,4.9,5.31,5.31,0,0,0,6.5,1,5.31,5.31,0,0,0,8.1,4.9,5.31,5.31,0,0,0,12,6.5,5.46,5.46,0,0,0,6.5,12Z\"/>\n",
              "  </svg>\n",
              "    </button>\n",
              "    <script>\n",
              "      (() => {\n",
              "      const buttonEl =\n",
              "        document.querySelector('#id_e6ab3c74-d2b1-455b-b3d2-ffe0700a6397 button.colab-df-generate');\n",
              "      buttonEl.style.display =\n",
              "        google.colab.kernel.accessAllowed ? 'block' : 'none';\n",
              "\n",
              "      buttonEl.onclick = () => {\n",
              "        google.colab.notebook.generateWithVariable('data');\n",
              "      }\n",
              "      })();\n",
              "    </script>\n",
              "  </div>\n",
              "\n",
              "    </div>\n",
              "  </div>\n"
            ],
            "application/vnd.google.colaboratory.intrinsic+json": {
              "type": "dataframe",
              "variable_name": "data",
              "summary": "{\n  \"name\": \"data\",\n  \"rows\": 2605,\n  \"fields\": [\n    {\n      \"column\": \"Unnamed: 0\",\n      \"properties\": {\n        \"dtype\": \"number\",\n        \"std\": 752,\n        \"min\": 0,\n        \"max\": 2604,\n        \"num_unique_values\": 2605,\n        \"samples\": [\n          782,\n          786,\n          602\n        ],\n        \"semantic_type\": \"\",\n        \"description\": \"\"\n      }\n    },\n    {\n      \"column\": \"Body\",\n      \"properties\": {\n        \"dtype\": \"string\",\n        \"num_unique_values\": 2591,\n        \"samples\": [\n          \"Subject: re : 6 . 943 , disc : non - decimal counting systems\\n \\n members may be interested in the work of dr glendon lean ( a past colleague of mine in png ) who passed away in march this year after recording his work of 22 years on the counting systems of papua new guinea and oceania . he documented in 24 appendices ( bound in four volumes ) counting systems of over 883 languages , most of which were not a simple base 10 cycle . on top of this , his thesis also suggested that the origins of counting systems are to be found in indigenous cultures and while they were spread they may have also spontaneously developed . he included records of body tally systems in which numbers were also used for parts of the body in an orderly system ; cycles of every number up to ten except seven and nine ( i think from memory ) with many having secondary cycles . he covered austronesian languages and papuan languages . printed copies of the volumes of appendices are available from chris wilkins , dept . of mathematics and statistics , png university of technology , lae , private mail bag , papua new guinea . professor alan bishop , education , monash university melbourne is also able to assist with information on this . i am hoping to look at some further mathematical connections in languages in east timor . if anyone has any information on this , could you please email me . thank you , dr kay owens , faculty of education , university of western sydney , macarthur , po box 555 , campbelltown , nsw 2560 australia .\\n\",\n          \"Subject: sum : sign-singing\\n \\n a few weeks ago i posted the following query : ) here in taiwan there is a tv program in which people compete ) to see who is the best singer . there are different categories ) for different types of songs / languages , etc . , and one category ) is for \\\" sign singing \\\" . a tape of a song is played , and a signer ) signs along with the words of the song ( all those i ' ve seen ) compete were not deaf ) . i was wondering if this is common in ) other countries , and if so , what the criteria are for judging ) who is \\\" the best \\\" , and also if it is done at all by people ) who are deaf . thanks . i received a number of interesting responses : ) from jane edwards ( edwards @ cogsci . berkeley . edu ) : ) thought not pertaining to contests or even singing , for that matter , ) i saw something on pbs a couple months back which i wanted to mention . ) they showed a \\\" music appreciation \\\" class taught to totally deaf high school ) kids , in which they each were wearing pad on the back , which converts the ) acoustic output into pressure stimulation . the students were dancing to ) the music , and commenting on different types of music . they were n't ) singing / signing to it , but perhaps they could ? ) from jakob dempsey ( jakob @ u . washington . edu ) : ) one of the largest , most popular choruses in seattle regularly ) has a sign-language \\\" interpreter \\\" on stage during performances ; the ) particular one who has been doing it for a long time is not deaf ; he seems ) to also appeal a lot to the general audience with his expressive , exaggerated ) style . ) from midori yonezawa ( yonezawa @ student . msu . edu ) : ) i believe that there is a sign singing contest because music can be shared ) by everybody and it is natural to want to show different expressions each ) other . ) i learned japanese sign language in japan ( a little bit ) , and sometimes i ) practiced sign singing , too . i went to concerts where the singers were ) all professional \\\" shanson \\\" singers ( \\\" shanson \\\" is french loan into japanese ) . ) they have a concert every year for those who are handicapped , not only ) for deaf people . some singers sang with sign language at the same time as ) they sang vocally , and when the singers did n't do so there was an interpreter ) of sign language on the stage . i noticed and surprised that the ways of ) expressing by sing language are very different from each other and from ) occasions , e . g . fast / slow , soft / pressing , emotional / calm , etc , etc . . ) i also remember a tv program ( on nhk ) about equipment to help those who have ) difficulty in hearing . a technical group developed the equipment so that ) they can hear music . ) from peggy swartzel lott ( pslott @ utxvms . cc . utexas . edu ) : ) when i was a sign language interpreter and interpreter coordinator in ) san diego , california , there was quite a to-do a few years back over ) the issue of song sign . i first remember encountering song sign in ) the early to mid 70 's when a few groups of deaf performers ( i . e . ) musign ) toured the country performing popular songs in sign along ) with recorded sound tracks . later a pair of excellent performers , ) sharon neumann solow and gary sanderson , both individuals who were ) raised with deaf parents and fluent in asl , toured and performed ) songs in sign . ) ) the controversy in san diego centered on a local \\\" annual song sign ) competition \\\" hosted by the area 's rid branch , sanscrid . the ) competition was open to the public and was established both for ) a general \\\" deaf awareness \\\" activity and to raise funds for various ) purposes . prizes were given out for best individual song , best ) group , etc . the performance of the competition was quite popular ) and seemed to be growing in attendance and participation each year . ) ) a group of deaf people contested the competition on various grounds . ) the points i remember best about their objection ( because i ) personally found these issues most compelling ) were that the ) actual performances were offensive to some native signers because ) of the way putting sign to music distorted the linguistic and ) aesthetic dynamics of asl . that is , in order to make a signed ) narrative conform to the lyrics of a song , to translate it ) simultaneously with the recorded music , many grammatical patterns ) in normal signing had to be altered . often the performance bore ) little resemblance to normal signing . ) ) there was great debate for a while in the community over this issue . ) certain deaf people and many hearing interpreters and sign ) students defended the practice of song sign . some insisted that ) they be allowed to exercise their own artistic talents in playing ) with signing in this way . others felt that song sign provided an ) important bridge that enabled many uninformed hearing people to ) become aware of and appreciate the beauty of signing . the ) community was divided over the issue and eventuall y the whole ) thing was dropped . in the meantime , however , certain concerns ) of deaf people were brought to the surface and continued to be a ) source of discussion : issues about who has the right to make poetic ) use of signing and what sorts of alterations in signing style are ) acceptable to native users and which are not . i found the whole ) debate quite interesting and was genuinely convinced by the ) argument of the deaf people who were opposed to the practice . ) from richard arnold ( richard . arnold @ vuw . ac . nz ) : ) here in new zealand we have an annual new zealand sign langauge story - telling ) competition . mostly the competitors are deaf , but some codas also partipate as ) well . i have yet to see any hearing compete , however i know of some deaf for ) whom nz sign language is a second language learnt later in their adult life ) also participate . ) ) the winners are usually those who are quite fluent in nzsl . the criteria for ) judging is ( to my understanding ) as follows : ) ) - is the signing clear to the audience ? ) - does the signer get the audiences attention ? ) - is the story well structured ? ) - is the story within the time limits set ( usually 3 minutes ) ? ) - does the signer keep to the rules ? ) this usually consists of - no dirty jokes . ) - no overzealous religious contexts . ) ) the competitior must give a title to his / her story and state its type , ( ie true ) story , joke story , sad story , not true story etc . . . ) ) ) if the story exceeds the time limit a point is deducted . however the signer is ) not interrupted if he / she exceeds the limit but is allowed to complete the ) story ( unless it really is too long ! ! ! ) . ) ) sometimes , at the end the winner ( if he / she is popular with the audience is ) asked to repeat it or give another story ) . ) ) . . . sign-singing is not too common among the deaf community far as i am ) aware . it is mostly done in religious situations . i think it is n't a strong ) component of deaf culture . however story-telling is a strong part of deaf ) culture and especially of making jokes and light-hearted teasing . anyway thats ) my deaf experience here in new zealand . ) from karina bingham ( karina @ uhunix . uhcc . hawaii . edu ) : ) there is an african - american a cappella group called \\\" sweet honey in the ) rock \\\" who have a full-time signer in the group . she performs with them and ) signs her interpretations of the songs . they recently published a book ) for their 25th anniversary : ) ) reagon , bernice johnson . the long journey home . 1994 . ) ) in which the signer discusses her experiences in the deaf community and ) a deaf church ( where the congregation sang in sign ) . her parents were both ) deaf ; she is not . ) from marina mcintire ( mmcintir @ lynx . dac . neu . edu ) : ) you have inadvertently touched upon a very tender issue in the deaf ) community here in the us . first , let me say that only in the us have i ) seen this phenomenon . brits ( both deaf and hearing who work with them ) ) are confounded and amused by it . in the us , it used to be quite the ) thing to translate songs and develop routines to go with them , produce ) recitals and concerts , and the like . it arose , most likely , out of a ) strong church-related tradition of \\\" helpers \\\" for deaf people . ) ) in the last ten to fifteen years , however , deaf people have begun their ) own liberation . song - signing has been a casualty , by and large . it is ) viewed as representing one aspect of a pathological or clinical view of ) deafness , i . e . , that the worst \\\" loss \\\" resulting from deafness is music . ) this is , of course , far from the truth . and for culturally deaf people , ) music is a peculiarity belonging to the mainstream hearing world and of ) no consequence in their lives whatsoever . so * that * motive ( helping ) d / deaf people appreciate what they ' re missing ) is not acceptable . ) ) another complaint is that , by and large , translations are more ) influenced by the rhythm of the music than by any sense it might make in ) asl , presenting d / deaf audiences with nonsensical or distorted versions ) of signs and signed syntax . this arises partly , of course , out of the ) difficulty of translating any poetry into any language . ) ) worst of all , and perhaps most puzzling to d / deaf people , is the ) insistence of most song-signers on including things like \\\" tra la la \\\" or ) humming . there is * nothing * that could make less sense to a d / deaf ) audience ! ) ) i will say that i have seen some wonderful song-sign translations done , ) including some with rather elegant dance routines . sometimes these have ) been done by d / deaf people and sometimes by hearing folks . by and large , ) however , this practice is no longer an acceptable pasttime in our ) community . exceptions are made , ironically , for interpreters who work in ) theater . musical productions , because of their general inclusion of ) dance ( a more interesting visual event ) and costume / props / etc . . . are ) quite popular and well-attended ( comparatively speaking ) by d / deaf ) theatre-goers . many thanks to all those who replied . randy lapolla institute of history and philology academia sinica\\n\",\n          \"Subject: cssi conference on spatial cognition\\n \\n mind iii : annual conference of the cognitive science society of ireland theme : spatial cognition dublin city university , dublin , ireland august 17-19 , 1998 you are invited to participate in the annual conference of the cssi , on the theme of spatial cognition , at dublin city university from august 17-19 , 1998 . this conference will bring together researchers from different cognitive science disciplines ( psychology , computer science , linguistics , and cognitive geography ) who are studying different aspects of spatial cognition . the conference will provide a forum for researchers to share insights about different aspects of spatial cognition and from the perspective of different disciplines . the academic programme will begin at 9 : 00 a . m . on august 17th and end on 19th . the social programme will include a barbecue and ceili ( traditional irish dance ) on tuesday 18th and a tour and concert on wednesday after the end of the academic programme . for information on registration and accommodation , please visit the web page at : http : / / www . psych . ucsb . edu / ~ hegarty / cssi / the deadline for early registration is july 15th ( after that the price increases significantly ) . for questions about the programme , contact mary hegarty : hegarty @ psych . ucsb . edu for questions about registration and local arrangements , contact sean o nuallain : sonualla @ compapp . dcu . ie programme keynote speakers : michel denis , groupe cognition humaine , limsi-cnrs , universite de paris - sud andrew frank , department of geoinformation , technical university wien talk presentations : environmental spatial cognition g . allen , university of south carolina men and women , maps and minds : cognitive bases of sex-related differences in reading and interpreting maps c . christou & h . bulthoff , max - planck institute for biological cybernetics , tubingen using virtual environments to study spatial encoding d . jacobson , r . kitchin , t . garling , r . golledge & m . blades , university of california , santa barbara , queens university of belfast , gotenborg university learning a complex urban route without sight : comparing naturalistic versus laboratory measures p . peruch , f . gaunet , c . thinus - blanc , m - d . giroudo , cnrs , marseille & cnrs - college de france , paris real and imagined perspective changes in visual versus locomotor navigation m . j . sholl , boston college the accessibility of metric relations in self-to - object and object-to - object systems language and space t . baguley & s . j . payne , loughborough university and cardiff university of wales given - new versus new-given ? an analysis of reading times for spatial descriptions k . c . coventry & m . prat - sala , university of plymouth the interplay between geometry and function in the comprehension of spatial propositions j . gurney & e . kipple , army research laboratory , adelphi , md composing conceptual structure for spoken natural language in a virtual reality environment s . huang , national taiwan university spatial representation in a language without prepositions s . taub , gallaudet university iconic spatial language in asl : concrete and metaphorical applications c . vorwerg , university of bielefeld production and understanding of direction terms as a categorization process computation and spatial cognition m . eisenberg & a . eisenberg , university of colorado designing real-time software advisors for 3 - d spatial operations j . gasos & a . saffiotti , iridia , universite libre de brruxelles fuzzy sets for the representation of uncertain spatial knowledge in autonomous robots r . k . lindsay , university of michigan discovering diagrammatic demonstrations p . mckevitt , aalborg university and university of sheffield chameleon meets spatial cognition d . r . montello , m . f . goodchild , p . fohl & j . gottsegen , university of california , santa barbara implementing fuzzy spatial queries : problem statement and behavioral science methods s . o nuallain & j . kelleher , dublin city university spoken image meets vrml and java spatial reasoning and problem solving m . gattis , max planck institute for psychological research , munich mapping relational structure in visual reasoning j . n . mcgregor , t . c . ormerod & e . p . chronicle , university of victoria and lancaster university spatial and conceptual factors in human performance on the traveling salesperson problem p . d . pearson , r . h . logie & k . j . gilhooly , university of aberdeen verbal representations and spatial manipulation during mental synthesis l . rozenblit , m . spivey & j . wojslawowicz mechanical reasoning about gear-and - belt systems : do eye-movements predict performance ? c . sophian & m . crosby , university of hawaii at manoa ratios that even young children understand : the case of spatial proportions theoretical perspectives : r . h . logie , department of aberdeen constraints on visuo-spatial working memory n . h . narayanan , auburn university exploring virtual information landscapes : spatial cognition meets information visualization a . smith , national research council , canada spatial cognition without spatial concepts c . speed & d . g . tobin , university of plymouth space under stress : spatial understanding and new media technologies m . tiressa , a . caressa and g . geminiani , universita di torino & universita di padova a theoretical framework for the study of spatial cognition poster presentations m . betrancourt , a . pellegrin & l . tardif , research institut , inria rhone - alpes using a spatial display to represent the temporal structure of multimedia documents m . bollaert , limsi-cnrs , university de paris - sud a connectionist model of mental imagery k borner & c vorwerg , university of bielefeld applying vr technology to the study of spatial perception and cognition a . caressa , a . abrigliano & g . geminiani , universita de padova & universita di torino . describers and explorers : a method to investigate cognitive maps . e . p . chronicle , t . c . ormerod & j . mcgregor . lancaster university and university of victoria when insight just won't come : the failure of visual cues in the nine-dot problem . r . coates , c . j . hamilton & t . heffernan , university of teeside and university of northumbria at newcastle in search of the visual and spatial characteristics of visuo-spatial working memory g . fernandez , lmsi-cnrs individual differences in the processing of route directions r . hornig , b . claus & k . eyferth , technical university of berlin in search for an overall organizing principle in spatial mental models : a question of inference m - c . grobety , m . morand & f . schenk cognitive mapping across visually disconnected environments n . gotts , university of wales , aberystwyth describing the topology of spherical regions using the \\\" rcc \\\" formalism x . guilarova , moscow m . v . lomosonov state university polysemy of adjective \\\" round \\\" via lakoff 's radical category structuring j . s . longstaff , laban center , london cognitive structures of kinesthetic space : reevaluating rudolph labanus choreutics u . schmid , s . wiebrock & f . wysotzki , technical university of berlin modeling spatial inferences in text understanding programme committee : ruth byrne , trinity college dublin jerome feldman , university of california , berkeley mary hegarty , university of california , santa barbara ( program chair ) christopher habel , university of hamburg george lakoff , university of california , berkeley robert h . logie , university of aberdeen jack loomis , university of california , santa barbara paul mc kevitt , aalborg university and university of sheffield daniel r . montello , university of california , santa barbara n . hari naryanan , auburn university and georgia institute of technology patrick olivier , university of wales , aberystwyth sean o nuallain , dublin city university ( co - chair ) terry regier , university of chicago keith stenning , edinburgh university michael spivey , cornell university arnold smith , national research council , canada barbara tversky , stanford university\\n\"\n        ],\n        \"semantic_type\": \"\",\n        \"description\": \"\"\n      }\n    },\n    {\n      \"column\": \"Label\",\n      \"properties\": {\n        \"dtype\": \"number\",\n        \"std\": 0,\n        \"min\": 0,\n        \"max\": 1,\n        \"num_unique_values\": 2,\n        \"samples\": [\n          0,\n          1\n        ],\n        \"semantic_type\": \"\",\n        \"description\": \"\"\n      }\n    }\n  ]\n}"
            }
          },
          "metadata": {},
          "execution_count": 9
        }
      ],
      "source": [
        "data"
      ]
    },
    {
      "cell_type": "code",
      "source": [
        "data.shape"
      ],
      "metadata": {
        "colab": {
          "base_uri": "https://localhost:8080/"
        },
        "id": "mYAsxtZhiG9_",
        "outputId": "1c872444-624d-44ba-a624-4b1b7611fc80"
      },
      "execution_count": null,
      "outputs": [
        {
          "output_type": "execute_result",
          "data": {
            "text/plain": [
              "(2605, 3)"
            ]
          },
          "metadata": {},
          "execution_count": 11
        }
      ]
    },
    {
      "cell_type": "code",
      "source": [
        "data.info()"
      ],
      "metadata": {
        "colab": {
          "base_uri": "https://localhost:8080/"
        },
        "id": "ViVJa-qRiLjP",
        "outputId": "b37d90c9-3e13-4f4f-c97c-ff3ba24ba4b9"
      },
      "execution_count": null,
      "outputs": [
        {
          "output_type": "stream",
          "name": "stdout",
          "text": [
            "<class 'pandas.core.frame.DataFrame'>\n",
            "RangeIndex: 2605 entries, 0 to 2604\n",
            "Data columns (total 3 columns):\n",
            " #   Column      Non-Null Count  Dtype \n",
            "---  ------      --------------  ----- \n",
            " 0   Unnamed: 0  2605 non-null   int64 \n",
            " 1   Body        2605 non-null   object\n",
            " 2   Label       2605 non-null   int64 \n",
            "dtypes: int64(2), object(1)\n",
            "memory usage: 61.2+ KB\n"
          ]
        }
      ]
    },
    {
      "cell_type": "markdown",
      "source": [
        "**DataPreprocessing**"
      ],
      "metadata": {
        "id": "s0mKqe8NkcD_"
      }
    },
    {
      "cell_type": "code",
      "source": [
        "import nltk\n",
        "import re\n",
        "nltk.download('stopwords')\n",
        "from nltk.corpus import stopwords\n",
        "from nltk.stem.porter import PorterStemmer\n",
        "nltk.download('punkt')"
      ],
      "metadata": {
        "colab": {
          "base_uri": "https://localhost:8080/"
        },
        "id": "df4IrBJziPjq",
        "outputId": "db027f8b-2228-4e1d-a1eb-81ae16803585"
      },
      "execution_count": null,
      "outputs": [
        {
          "output_type": "stream",
          "name": "stderr",
          "text": [
            "[nltk_data] Downloading package stopwords to /root/nltk_data...\n",
            "[nltk_data]   Unzipping corpora/stopwords.zip.\n",
            "[nltk_data] Downloading package punkt to /root/nltk_data...\n",
            "[nltk_data]   Unzipping tokenizers/punkt.zip.\n"
          ]
        },
        {
          "output_type": "execute_result",
          "data": {
            "text/plain": [
              "True"
            ]
          },
          "metadata": {},
          "execution_count": 13
        }
      ]
    },
    {
      "cell_type": "code",
      "source": [
        "stop_words = set(stopwords.words('english'))\n",
        "stemmer = PorterStemmer()"
      ],
      "metadata": {
        "id": "2l1MXKdgiUFb"
      },
      "execution_count": null,
      "outputs": []
    },
    {
      "cell_type": "code",
      "source": [
        "def process_text(text):\n",
        "  tokens = nltk.word_tokenize(text)\n",
        "  tokens = [stemmer.stem(token) for token in tokens if token.isalpha() and token not in stop_words]\n",
        "  return ' '.join(tokens)\n",
        "processed_data = [process_text(doc) for doc in data.Body]"
      ],
      "metadata": {
        "id": "RRtgVEnoiXS1"
      },
      "execution_count": null,
      "outputs": []
    },
    {
      "cell_type": "code",
      "source": [
        "data['preprocessed_text'] = data['Body'].apply(process_text)"
      ],
      "metadata": {
        "id": "cQiserbPii5k"
      },
      "execution_count": null,
      "outputs": []
    },
    {
      "cell_type": "markdown",
      "source": [
        "# **Model Training**"
      ],
      "metadata": {
        "id": "QjtBJO4AkXhx"
      }
    },
    {
      "cell_type": "code",
      "source": [
        "from sklearn.model_selection import train_test_split\n",
        "from sklearn.feature_extraction.text import CountVectorizer"
      ],
      "metadata": {
        "id": "4d-niuIJjCKw"
      },
      "execution_count": null,
      "outputs": []
    },
    {
      "cell_type": "code",
      "source": [
        "X_train,X_test,y_train,y_test = train_test_split(data['preprocessed_text'],data['Label'],test_size=0.2,random_state=42)"
      ],
      "metadata": {
        "id": "pPYb5vd-jj5U"
      },
      "execution_count": null,
      "outputs": []
    },
    {
      "cell_type": "code",
      "source": [
        "len(X_train),len(X_test),len(y_train),len(y_test)"
      ],
      "metadata": {
        "colab": {
          "base_uri": "https://localhost:8080/"
        },
        "id": "gvZ0t3iFjl22",
        "outputId": "8da716b8-b679-47b4-d98d-162a65a5ecaa"
      },
      "execution_count": null,
      "outputs": [
        {
          "output_type": "execute_result",
          "data": {
            "text/plain": [
              "(2084, 521, 2084, 521)"
            ]
          },
          "metadata": {},
          "execution_count": 25
        }
      ]
    },
    {
      "cell_type": "code",
      "source": [
        "vectorizer = CountVectorizer()\n",
        "X_train_vectorized = vectorizer.fit_transform(X_train)\n",
        "X_test_vectorized = vectorizer.transform(X_test)"
      ],
      "metadata": {
        "id": "ubL7dyFfjxZ7"
      },
      "execution_count": null,
      "outputs": []
    },
    {
      "cell_type": "markdown",
      "source": [
        "**Multinomial Naive Bayes**"
      ],
      "metadata": {
        "id": "lXOxkEx-kQM2"
      }
    },
    {
      "cell_type": "code",
      "source": [
        "from sklearn.naive_bayes import MultinomialNB\n",
        "classifier = MultinomialNB()"
      ],
      "metadata": {
        "id": "esiSguXOj0lI"
      },
      "execution_count": null,
      "outputs": []
    },
    {
      "cell_type": "code",
      "source": [
        "classifier.fit(X_train_vectorized,y_train)"
      ],
      "metadata": {
        "colab": {
          "base_uri": "https://localhost:8080/",
          "height": 74
        },
        "id": "CsIKakoTj4Z-",
        "outputId": "3b704d3d-a1ef-4c35-dd51-d20887be7972"
      },
      "execution_count": null,
      "outputs": [
        {
          "output_type": "execute_result",
          "data": {
            "text/plain": [
              "MultinomialNB()"
            ],
            "text/html": [
              "<style>#sk-container-id-1 {color: black;background-color: white;}#sk-container-id-1 pre{padding: 0;}#sk-container-id-1 div.sk-toggleable {background-color: white;}#sk-container-id-1 label.sk-toggleable__label {cursor: pointer;display: block;width: 100%;margin-bottom: 0;padding: 0.3em;box-sizing: border-box;text-align: center;}#sk-container-id-1 label.sk-toggleable__label-arrow:before {content: \"▸\";float: left;margin-right: 0.25em;color: #696969;}#sk-container-id-1 label.sk-toggleable__label-arrow:hover:before {color: black;}#sk-container-id-1 div.sk-estimator:hover label.sk-toggleable__label-arrow:before {color: black;}#sk-container-id-1 div.sk-toggleable__content {max-height: 0;max-width: 0;overflow: hidden;text-align: left;background-color: #f0f8ff;}#sk-container-id-1 div.sk-toggleable__content pre {margin: 0.2em;color: black;border-radius: 0.25em;background-color: #f0f8ff;}#sk-container-id-1 input.sk-toggleable__control:checked~div.sk-toggleable__content {max-height: 200px;max-width: 100%;overflow: auto;}#sk-container-id-1 input.sk-toggleable__control:checked~label.sk-toggleable__label-arrow:before {content: \"▾\";}#sk-container-id-1 div.sk-estimator input.sk-toggleable__control:checked~label.sk-toggleable__label {background-color: #d4ebff;}#sk-container-id-1 div.sk-label input.sk-toggleable__control:checked~label.sk-toggleable__label {background-color: #d4ebff;}#sk-container-id-1 input.sk-hidden--visually {border: 0;clip: rect(1px 1px 1px 1px);clip: rect(1px, 1px, 1px, 1px);height: 1px;margin: -1px;overflow: hidden;padding: 0;position: absolute;width: 1px;}#sk-container-id-1 div.sk-estimator {font-family: monospace;background-color: #f0f8ff;border: 1px dotted black;border-radius: 0.25em;box-sizing: border-box;margin-bottom: 0.5em;}#sk-container-id-1 div.sk-estimator:hover {background-color: #d4ebff;}#sk-container-id-1 div.sk-parallel-item::after {content: \"\";width: 100%;border-bottom: 1px solid gray;flex-grow: 1;}#sk-container-id-1 div.sk-label:hover label.sk-toggleable__label {background-color: #d4ebff;}#sk-container-id-1 div.sk-serial::before {content: \"\";position: absolute;border-left: 1px solid gray;box-sizing: border-box;top: 0;bottom: 0;left: 50%;z-index: 0;}#sk-container-id-1 div.sk-serial {display: flex;flex-direction: column;align-items: center;background-color: white;padding-right: 0.2em;padding-left: 0.2em;position: relative;}#sk-container-id-1 div.sk-item {position: relative;z-index: 1;}#sk-container-id-1 div.sk-parallel {display: flex;align-items: stretch;justify-content: center;background-color: white;position: relative;}#sk-container-id-1 div.sk-item::before, #sk-container-id-1 div.sk-parallel-item::before {content: \"\";position: absolute;border-left: 1px solid gray;box-sizing: border-box;top: 0;bottom: 0;left: 50%;z-index: -1;}#sk-container-id-1 div.sk-parallel-item {display: flex;flex-direction: column;z-index: 1;position: relative;background-color: white;}#sk-container-id-1 div.sk-parallel-item:first-child::after {align-self: flex-end;width: 50%;}#sk-container-id-1 div.sk-parallel-item:last-child::after {align-self: flex-start;width: 50%;}#sk-container-id-1 div.sk-parallel-item:only-child::after {width: 0;}#sk-container-id-1 div.sk-dashed-wrapped {border: 1px dashed gray;margin: 0 0.4em 0.5em 0.4em;box-sizing: border-box;padding-bottom: 0.4em;background-color: white;}#sk-container-id-1 div.sk-label label {font-family: monospace;font-weight: bold;display: inline-block;line-height: 1.2em;}#sk-container-id-1 div.sk-label-container {text-align: center;}#sk-container-id-1 div.sk-container {/* jupyter's `normalize.less` sets `[hidden] { display: none; }` but bootstrap.min.css set `[hidden] { display: none !important; }` so we also need the `!important` here to be able to override the default hidden behavior on the sphinx rendered scikit-learn.org. See: https://github.com/scikit-learn/scikit-learn/issues/21755 */display: inline-block !important;position: relative;}#sk-container-id-1 div.sk-text-repr-fallback {display: none;}</style><div id=\"sk-container-id-1\" class=\"sk-top-container\"><div class=\"sk-text-repr-fallback\"><pre>MultinomialNB()</pre><b>In a Jupyter environment, please rerun this cell to show the HTML representation or trust the notebook. <br />On GitHub, the HTML representation is unable to render, please try loading this page with nbviewer.org.</b></div><div class=\"sk-container\" hidden><div class=\"sk-item\"><div class=\"sk-estimator sk-toggleable\"><input class=\"sk-toggleable__control sk-hidden--visually\" id=\"sk-estimator-id-1\" type=\"checkbox\" checked><label for=\"sk-estimator-id-1\" class=\"sk-toggleable__label sk-toggleable__label-arrow\">MultinomialNB</label><div class=\"sk-toggleable__content\"><pre>MultinomialNB()</pre></div></div></div></div></div>"
            ]
          },
          "metadata": {},
          "execution_count": 28
        }
      ]
    },
    {
      "cell_type": "code",
      "source": [
        "y_pred = classifier.predict(X_test_vectorized)"
      ],
      "metadata": {
        "id": "BGj0NWnDj6e4"
      },
      "execution_count": null,
      "outputs": []
    },
    {
      "cell_type": "markdown",
      "source": [
        " **Evaluating the classifier on a test set**"
      ],
      "metadata": {
        "id": "xKAtRaCtkKxP"
      }
    },
    {
      "cell_type": "code",
      "source": [
        "from sklearn.metrics import accuracy_score, classification_report\n",
        "accuracy = accuracy_score(y_test, y_pred)\n",
        "classification_rep = classification_report(y_test, y_pred)\n",
        "\n",
        "print(f'Accuracy: {accuracy}')\n",
        "print(f'Classification Report:\\n{classification_rep}')"
      ],
      "metadata": {
        "colab": {
          "base_uri": "https://localhost:8080/"
        },
        "id": "DZOF2j0nj89-",
        "outputId": "fbcfa4ec-4655-4818-a96f-56b0fa7ed38f"
      },
      "execution_count": null,
      "outputs": [
        {
          "output_type": "stream",
          "name": "stdout",
          "text": [
            "Accuracy: 0.9942418426103646\n",
            "Classification Report:\n",
            "              precision    recall  f1-score   support\n",
            "\n",
            "           0       0.99      1.00      1.00       436\n",
            "           1       1.00      0.96      0.98        85\n",
            "\n",
            "    accuracy                           0.99       521\n",
            "   macro avg       1.00      0.98      0.99       521\n",
            "weighted avg       0.99      0.99      0.99       521\n",
            "\n"
          ]
        }
      ]
    },
    {
      "cell_type": "code",
      "source": [
        "from sklearn.feature_extraction.text import CountVectorizer\n",
        "cv = CountVectorizer()\n",
        "def predict_sentiment(sample_review):\n",
        "  sample_review = re.sub(pattern = '[^a-zA-Z]',repl=' ',string = sample_review)\n",
        "  sample_review =sample_review.lower()\n",
        "  sample_review_words = sample_review.split()\n",
        "  sample_review_words = [word for word in sample_review_words if not word in set(stopwords.words('english'))]\n",
        "  ps=PorterStemmer()\n",
        "  final_review = [ps.stem(word) for word in sample_review_words]\n",
        "  final_review = ' '.join(final_review)\n",
        "\n",
        "  temp = vectorizer.transform([final_review]).toarray()\n",
        "  return classifier.predict(temp)"
      ],
      "metadata": {
        "id": "ES82LM79j_7j"
      },
      "execution_count": null,
      "outputs": []
    },
    {
      "cell_type": "code",
      "source": [
        "sample_mail = \"“Subject: celtic studies\"\n",
        "if predict_sentiment(sample_mail):\n",
        "  print('This is a SPAM Mail')\n",
        "else:\n",
        "  print('This is NOT SPAM Mail')"
      ],
      "metadata": {
        "colab": {
          "base_uri": "https://localhost:8080/"
        },
        "id": "b1-80wy2lQ0X",
        "outputId": "25e6fd0a-34ca-4ece-83b7-8f643e595921"
      },
      "execution_count": null,
      "outputs": [
        {
          "output_type": "stream",
          "name": "stdout",
          "text": [
            "This is NOT SPAM Mail\n"
          ]
        }
      ]
    },
    {
      "cell_type": "code",
      "source": [],
      "metadata": {
        "id": "r6jNv-nwlaRu"
      },
      "execution_count": null,
      "outputs": []
    }
  ],
  "metadata": {
    "colab": {
      "provenance": []
    },
    "kernelspec": {
      "display_name": "Python 3",
      "name": "python3"
    },
    "language_info": {
      "name": "python"
    }
  },
  "nbformat": 4,
  "nbformat_minor": 0
}